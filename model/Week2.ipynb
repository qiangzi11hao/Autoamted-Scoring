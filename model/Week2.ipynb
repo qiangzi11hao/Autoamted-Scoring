{
 "cells": [
  {
   "cell_type": "code",
   "execution_count": 9,
   "metadata": {
    "collapsed": true
   },
   "outputs": [],
   "source": [
    "train_path = r'essay_train.txt'\n",
    "test_path = r'essay_test.txt'\n",
    "df_train = pd.read_table(train_path,header = None,names=[\"id\", \"text\", \"score1\", \"score2\",\"score\"])\n",
    "df_test = pd.read_table(test_path,header = None,names=[\"id\", \"text\"])"
   ]
  },
  {
   "cell_type": "code",
   "execution_count": 10,
   "metadata": {
    "collapsed": true
   },
   "outputs": [],
   "source": [
    "from nltk.stem import WordNetLemmatizer\n",
    "from nltk.corpus import wordnet \n",
    "import sys, nltk, re\n",
    "\n",
    "def tokenize(line):\n",
    "    \"\"\" Tokenizes  a string\n",
    "    Input: string to be tokenized\n",
    "    Output: list of tokens \"\"\"\n",
    "    \n",
    "    orig = line.strip()\n",
    "    return nltk.word_tokenize(orig)\n",
    "\n",
    "def pos(tokens):\n",
    "    \"\"\" PoS tags a list of tokens\n",
    "    Input: list of tokens to be PoS-tagged\n",
    "    Output: list of tuples with (token, PoS-tag)\"\"\"\n",
    "    \n",
    "    return nltk.pos_tag(tokens)\n",
    "    \n",
    "def penn_2_wordnet(pos_tag):\n",
    "    \"\"\" Converts Penn PoS-tags to Wordnet-style pos tags\n",
    "    Input: Penn pos tag\n",
    "    Output: wordnet Pos tag\"\"\"\n",
    "    \n",
    "    if pos_tag.startswith('N'): \n",
    "        return wordnet.NOUN\n",
    "    elif pos_tag.startswith('J'):\n",
    "        return wordnet.ADJ\n",
    "    elif pos_tag.startswith('V'):\n",
    "        return wordnet.VERB\n",
    "    elif pos_tag.startswith('R'):\n",
    "        return wordnet.ADV\n",
    "    # eliminate punctuation\n",
    "    elif re.match('[\\.:,\\(\\)]', pos_tag):\n",
    "        return None\n",
    "    # default to noun\n",
    "    else:\n",
    "        return wordnet.NOUN\n",
    "    \n",
    "def get_lemmas(token_tuples):\n",
    "    \"\"\" Lemmatizes a list of token-pos tuples\n",
    "    Input: list of token-pos tuples using the Penn tagset\n",
    "    Output: list of tokens\"\"\"\n",
    "    \n",
    "    lemmas = []\n",
    "    wordnet_lemmatizer = WordNetLemmatizer()\n",
    "    \n",
    "    for token_tuple in token_tuples:\n",
    "        # convert penn pos-tags to wordnet pos-tags\n",
    "        pos = penn_2_wordnet(token_tuple[1])\n",
    "        if pos: \n",
    "            lemmas.append(wordnet_lemmatizer.lemmatize(token_tuple[0], pos))\n",
    "        \n",
    "    return lemmas\n",
    "    \n",
    "def count_lemmas(lemma_list):\n",
    "    \"\"\" Count number of unique lemmas\n",
    "    Input: list of lemmas\n",
    "    Output: number of unique lemmas\"\"\"\n",
    "    \n",
    "    return len(set(lemma_list))\n",
    "    \n",
    "    \n",
    "def calculate(essay):\n",
    "    \n",
    "    lemma_list = []\n",
    "    #token_count = 0.0\n",
    "    \n",
    "    tokens = tokenize(str(essay).lower())\n",
    "    #token_count = len(tokens)\n",
    "    posd = pos(tokens)       \n",
    "    lemmas = get_lemmas(posd)\n",
    "    lemma_list += lemmas\n",
    "    \n",
    "    lcount = count_lemmas(lemma_list)\n",
    "    #return float(lcount) / token_count\n",
    "    return lcount\n",
    "    \n",
    "def poslist(essay):\n",
    "    tokens = tokenize(str(essay).lower())\n",
    "    poslist = []\n",
    "    p = pos(tokens)\n",
    "    for pp in p:\n",
    "        poslist.append(pp[1])\n",
    "        \n",
    "    return ' '.join(poslist)\n",
    "    \n",
    "def comma_count(essay):\n",
    "    \n",
    "    return poslist(essay).count(',')\n",
    "\n",
    "def posngram(essay):\n",
    "    #POS-tag essay\n",
    "    tokens = tokenize(str(essay).lower())\n",
    "    posd = pos(tokens)\n",
    "    \n",
    "    # unigrams\n",
    "    ugs = set()\n",
    "    for p in posd:\n",
    "        ugs.add(p[1])\n",
    "        \n",
    "    # bigrams\n",
    "    bgs = set()\n",
    "    for i in range(0, len(posd)-1):\n",
    "        bi = (posd[i][1], posd[i+1][1])\n",
    "        bgs.add(bi)\n",
    "\n",
    "    # trigrams\n",
    "    tgs = set()\n",
    "    for i in range(0, len(posd)-2):\n",
    "        tgs.add((posd[i][1], posd[i+1][1], posd[i+2][1]))\n",
    "\n",
    "    return ugs, bgs, tgs\n",
    "        "
   ]
  },
  {
   "cell_type": "code",
   "execution_count": 4,
   "metadata": {
    "collapsed": true
   },
   "outputs": [],
   "source": [
    "from sklearn.feature_extraction.text import CountVectorizer\n",
    "# getting binarized pos-ngrams    \n",
    "pos = df_train.text.apply(poslist)"
   ]
  },
  {
   "cell_type": "code",
   "execution_count": 5,
   "metadata": {
    "collapsed": true
   },
   "outputs": [],
   "source": [
    "cv = CountVectorizer(lowercase=False, ngram_range=(1,3), binary=True)\n",
    "ngs = cv.fit_transform(list(pos))\n",
    "posngrams = ngs.toarray()"
   ]
  },
  {
   "cell_type": "code",
   "execution_count": 33,
   "metadata": {
    "collapsed": true
   },
   "outputs": [],
   "source": [
    "n_train = posngrams[:,np.where(posngrams.sum(axis=0)>10)[0]]"
   ]
  },
  {
   "cell_type": "code",
   "execution_count": 32,
   "metadata": {},
   "outputs": [
    {
     "data": {
      "text/plain": [
       "(1200, 3888)"
      ]
     },
     "execution_count": 32,
     "metadata": {},
     "output_type": "execute_result"
    }
   ],
   "source": [
    "posngrams[:,np.where(posngrams.sum(axis=0)>10)[0]].shape"
   ]
  },
  {
   "cell_type": "code",
   "execution_count": 11,
   "metadata": {
    "collapsed": true
   },
   "outputs": [],
   "source": [
    "pos_test = df_test.text.apply(poslist)"
   ]
  },
  {
   "cell_type": "code",
   "execution_count": 12,
   "metadata": {
    "collapsed": true
   },
   "outputs": [],
   "source": [
    "ngs_test = cv.transform(pos_test).toarray()"
   ]
  },
  {
   "cell_type": "code",
   "execution_count": 14,
   "metadata": {},
   "outputs": [
    {
     "data": {
      "text/plain": [
       "(550, 10404)"
      ]
     },
     "execution_count": 14,
     "metadata": {},
     "output_type": "execute_result"
    }
   ],
   "source": [
    "ngs_test.shape"
   ]
  },
  {
   "cell_type": "code",
   "execution_count": 15,
   "metadata": {},
   "outputs": [
    {
     "data": {
      "text/plain": [
       "(1200, 10404)"
      ]
     },
     "execution_count": 15,
     "metadata": {},
     "output_type": "execute_result"
    }
   ],
   "source": [
    "posngrams.shape"
   ]
  },
  {
   "cell_type": "code",
   "execution_count": 34,
   "metadata": {
    "collapsed": true
   },
   "outputs": [],
   "source": [
    "n_test = ngs_test[:,np.where(posngrams.sum(axis=0)>10)[0]]"
   ]
  },
  {
   "cell_type": "code",
   "execution_count": 1,
   "metadata": {},
   "outputs": [
    {
     "name": "stderr",
     "output_type": "stream",
     "text": [
      "/home/liuzhiqiang/anaconda3/lib/python3.6/site-packages/nltk/twitter/__init__.py:20: UserWarning: The twython library has not been installed. Some functionality from the twitter package will not be available.\n",
      "  warnings.warn(\"The twython library has not been installed. \"\n"
     ]
    }
   ],
   "source": [
    "import pandas as pd\n",
    "import numpy as np\n",
    "import nltk\n",
    "import pickle\n",
    "from textblob import Word\n",
    "from nltk import ngrams\n",
    "from textstat.textstat import textstat\n",
    "from nltk.sentiment.vader import SentimentIntensityAnalyzer\n",
    "\n",
    "\n",
    "def get_sat_word(path):\n",
    "    with open(path, 'r') as f:\n",
    "        sat = f.read()\n",
    "    sat_words = []\n",
    "    for sentence in sat.split('\\n'):\n",
    "        if len(sentence) < 1:\n",
    "            continue\n",
    "        sat_words.append(sentence.split()[0])\n",
    "    return sat_words\n",
    "\n",
    "\n",
    "# 1）长度相关\n",
    "def form_counts(content):\n",
    "    \"\"\"\n",
    "    :param sentence:\n",
    "    :return: 单词数word_count,句子数sentence_count,每个句子的平均单词数avg_sentence_len\n",
    "              拼写错误单词数spelling_errors,长单词数long_word\n",
    "    \"\"\"\n",
    "    char_count = len(content)\n",
    "    words = nltk.word_tokenize(content.strip())  # 会自动滤除标点符号/lower\n",
    "    word_count = len(words)  # 单词数\n",
    "\n",
    "    sent_detector = nltk.data.load('tokenizers/punkt/english.pickle')\n",
    "    sents = sent_detector.tokenize(content.strip())\n",
    "    sentence_count = len(sents)  # 句子数\n",
    "\n",
    "    if sentence_count != 0:\n",
    "        avg_sentence_len = word_count / sentence_count  # 每个句子的平均单词数\n",
    "    else:\n",
    "        avg_sentence_len = 0\n",
    "\n",
    "    spelling_errors = sum([Word(word).spellcheck()[0][0] != word for word in words])  # 拼写错误的单词数\n",
    "    long_word = sum([len(word) >= 7 for word in words])  # 长单词数\n",
    "\n",
    "    exc_count = words.count('!')\n",
    "    que_count = words.count('?')\n",
    "\n",
    "    stopwords = set(nltk.corpus.stopwords.words(\"english\"))\n",
    "    sat_words = get_sat_word('SAT_words')\n",
    "    stopwords_num = 0\n",
    "    sat_num = 0\n",
    "    for word in words:\n",
    "        if word in stopwords:\n",
    "            stopwords_num += 1\n",
    "        if word in sat_words:\n",
    "            sat_num += 1\n",
    "\n",
    "    return char_count, word_count, sentence_count, avg_sentence_len, spelling_errors, \\\n",
    "           long_word, exc_count, que_count, stopwords_num, sat_num\n",
    "\n",
    "\n",
    "# 2) language model counts\n",
    "def ngrams_counts(content):\n",
    "    words = nltk.word_tokenize(content.strip())  # 会自动滤除标点符号/lower\n",
    "    sents = \" \".join(words)\n",
    "\n",
    "    unigrams = [grams for grams in ngrams(sents.split(), 1)]\n",
    "    bigrams = [grams for grams in ngrams(sents.split(), 2)]\n",
    "    trigram = [grams for grams in ngrams(sents.split(), 3)]\n",
    "\n",
    "    unigrams_count = len([(item[0], unigrams.count(item)) for item in sorted(set(unigrams))])\n",
    "    bigrams_count = len([(item, bigrams.count(item)) for item in sorted(set(bigrams))])\n",
    "    trigrams_count = len([(item, trigram.count(item)) for item in sorted(set(trigram))])\n",
    "\n",
    "    return unigrams_count, bigrams_count, trigrams_count\n",
    "\n",
    "\n",
    "# 3) POS counts\n",
    "def pos_counts(content):\n",
    "    noun_count, adj_count, adv_count, verb_count, fw_count = 0, 0, 0, 0, 0\n",
    "\n",
    "    words = nltk.word_tokenize(content)\n",
    "    tags = nltk.pos_tag(words)\n",
    "    for tag in tags:\n",
    "        if tag[1].startswith(\"NN\"):\n",
    "            noun_count += 1\n",
    "        elif tag[1].startswith(\"JJ\"):\n",
    "            adj_count += 1\n",
    "        elif tag[1].startswith(\"RB\"):\n",
    "            adv_count += 1\n",
    "        elif tag[1].startswith(\"VB\"):\n",
    "            verb_count += 1\n",
    "        elif tag[1].startswith(\"FW\"):\n",
    "            fw_count += 1\n",
    "    return noun_count, adj_count, adv_count, verb_count, fw_count\n",
    "\n",
    "\n",
    "# # 4) getFeature\n",
    "# def get_dataframe(content):\n",
    "#     features = pd.DataFrame()\n",
    "\n",
    "#     features['word_count'],features['sentence_count'],features['avg_sentence_len'],\\\n",
    "#     features['spelling_errors'],features['long_word'] = form_counts(content)\n",
    "\n",
    "#     features['unigrams_count'],features['bigrams_count'],features['trigrams_count'] = ngrams_counts(content)\n",
    "#     features['noun_count'], features['adj_count'], features['adv_count'],features['verb_count'], features['fw_count'] = pos_counts(content)\n",
    "\n",
    "#     return features\n",
    "def sentiment_tagger(sid = SentimentIntensityAnalyzer(),sent_detector = nltk.data.load('tokenizers/punkt/english.pickle'),essay = None):\n",
    "    neg_sentiment,neu_sentiment,pos_sentiment = 0, 0 ,0\n",
    "    sents = sent_detector.tokenize(essay.strip())\n",
    "\n",
    "    for sent in sents:\n",
    "        ss = sid.polarity_scores(sent)\n",
    "        for k in sorted(ss):\n",
    "            if k == 'neg':\n",
    "                neg_sentiment += ss[k]\n",
    "            elif k == 'neu':\n",
    "                neu_sentiment += ss[k]\n",
    "            elif k == 'pos':\n",
    "                pos_sentiment += ss[k]\n",
    "    return neg_sentiment,neu_sentiment,pos_sentiment\n",
    "\n",
    "def Readability(df_train):\n",
    "    syllable_count = df_train.text.apply(textstat.syllable_count)\n",
    "    flesch_reading_ease = df_train.text.apply(textstat.flesch_reading_ease)\n",
    "    smog_index = df_train.text.apply(textstat.smog_index)\n",
    "    flesch_kincaid_grade = df_train.text.apply(textstat.flesch_kincaid_grade)\n",
    "    coleman_liau_index = df_train.text.apply(textstat.coleman_liau_index)\n",
    "    automated_readability_index = df_train.text.apply(textstat.automated_readability_index)\n",
    "    dale_chall_readability_score = df_train.text.apply(textstat.dale_chall_readability_score)\n",
    "    difficult_words = df_train.text.apply(textstat.difficult_words)  # 困难单词数\n",
    "    linsear_write_formula = df_train.text.apply(textstat.linsear_write_formula)\n",
    "    gunning_fog = df_train.text.apply(textstat.gunning_fog)\n",
    "    return np.c_[syllable_count, flesch_reading_ease, smog_index, flesch_kincaid_grade, coleman_liau_index,\n",
    "                 automated_readability_index,dale_chall_readability_score,difficult_words,linsear_write_formula,gunning_fog]\n",
    "# 4) getFeature\n",
    "def get_features(df_train):\n",
    "    contents = list(df_train.text)\n",
    "    read = Readability(df_train)\n",
    "    features = []\n",
    "    for content in contents:\n",
    "        char_count, word_count, sentence_count, avg_sentence_len, spelling_errors, \\\n",
    "        long_word, exc_count, que_count, stopwords_num, sat_num = form_counts(content)\n",
    "        unigrams_count, bigrams_count, trigrams_count = ngrams_counts(content)\n",
    "        noun_count, adj_count, adv_count, verb_count, fw_count = pos_counts(content)\n",
    "        neg_sentiment, neu_sentiment, pos_sentiment = sentiment_tagger(content)\n",
    "        feature = np.c_[char_count, word_count, sentence_count, avg_sentence_len, spelling_errors,\n",
    "                        long_word, exc_count, que_count, stopwords_num, sat_num, unigrams_count,\n",
    "                        bigrams_count, trigrams_count, noun_count, adj_count, adv_count, verb_count, fw_count,\n",
    "                        neg_sentiment, neu_sentiment, pos_sentiment,]\n",
    "        features.append(feature[0])\n",
    "    return np.c_[features,read]\n",
    "\n"
   ]
  },
  {
   "cell_type": "code",
   "execution_count": 6,
   "metadata": {
    "collapsed": true
   },
   "outputs": [],
   "source": [
    "read_train = Readability(df_train)\n",
    "senti_train = np.array([sentiment_tagger(essay=essay) for essay in df_train.text])"
   ]
  },
  {
   "cell_type": "code",
   "execution_count": 7,
   "metadata": {
    "collapsed": true
   },
   "outputs": [],
   "source": [
    "read_test = Readability(df_test)\n",
    "senti_test = np.array([sentiment_tagger(essay=essay) for essay in df_test.text])"
   ]
  },
  {
   "cell_type": "code",
   "execution_count": 9,
   "metadata": {
    "collapsed": true
   },
   "outputs": [],
   "source": [
    "bi_features= np.c_[read_train,senti_train]"
   ]
  },
  {
   "cell_type": "code",
   "execution_count": null,
   "metadata": {
    "collapsed": true
   },
   "outputs": [],
   "source": [
    "with open('readp.pickle','wb') as f:\n",
    "    pickle.dump([read_train,senti_train,read_test,senti_test],f)"
   ]
  },
  {
   "cell_type": "code",
   "execution_count": 67,
   "metadata": {},
   "outputs": [
    {
     "data": {
      "text/plain": [
       "array([[  4.38000000e+02,   7.81400000e+01,   8.80000000e+00, ...,\n",
       "          5.13900000e+00,   2.45840000e+01,   2.27700000e+00],\n",
       "       [  5.72000000e+02,   5.64500000e+01,   1.23000000e+01, ...,\n",
       "          2.63900000e+00,   2.09500000e+01,   1.41000000e+00],\n",
       "       [  3.24000000e+02,   5.17200000e+01,   1.33000000e+01, ...,\n",
       "          6.34000000e-01,   4.08000000e+00,   2.87000000e-01],\n",
       "       ..., \n",
       "       [  4.31000000e+02,   7.49000000e+01,   9.10000000e+00, ...,\n",
       "          5.65000000e-01,   2.06690000e+01,   2.76600000e+00],\n",
       "       [  5.84000000e+02,   8.31500000e+01,   8.70000000e+00, ...,\n",
       "          4.09000000e-01,   2.78400000e+01,   4.75100000e+00],\n",
       "       [  7.84000000e+02,   8.64400000e+01,   8.80000000e+00, ...,\n",
       "          1.11600000e+00,   2.85000000e+01,   4.38500000e+00]])"
      ]
     },
     "execution_count": 67,
     "metadata": {},
     "output_type": "execute_result"
    }
   ],
   "source": [
    "bi_features"
   ]
  },
  {
   "cell_type": "code",
   "execution_count": null,
   "metadata": {
    "collapsed": true
   },
   "outputs": [],
   "source": [
    "train_features = get_features(list(df_train.text))\n",
    "test_features = get_features(list(df_test.text))\n",
    "with open('data.pickle','wb') as f:\n",
    "    pickle.dump([train_features,test_features], f)"
   ]
  },
  {
   "cell_type": "code",
   "execution_count": null,
   "metadata": {
    "collapsed": true
   },
   "outputs": [],
   "source": [
    "import sklearn\n",
    "import numpy as np\n",
    "# Import all of the scikit learn stuff\n",
    "from sklearn.decomposition import TruncatedSVD\n",
    "from sklearn.feature_extraction.text import TfidfVectorizer\n",
    "from sklearn.feature_extraction.text import CountVectorizer\n",
    "from sklearn.preprocessing import Normalizer\n",
    "from sklearn import metrics\n",
    "from sklearn.cluster import KMeans, MiniBatchKMeans\n",
    "import pandas as pd\n",
    "import warnings\n",
    "# Suppress warnings from pandas library\n",
    "warnings.filterwarnings(\"ignore\", category=DeprecationWarning,\n",
    "module=\"pandas\", lineno=570)\n",
    "\n",
    "def compute(df):\n",
    "    \n",
    "    \"\"\"LSA computation\n",
    "    \n",
    "    Input: pandas dataframe\n",
    "    Output: score of the most similar essay to the first essay\n",
    "    \"\"\"\n",
    "    \n",
    "    # get file's index\n",
    "    ind = df.name  \n",
    "    es = df[0]\n",
    "    essay = df[1]\n",
    "    \n",
    "    trainfiles = \\\n",
    "    pd.DataFrame.from_csv('data/training_set_rel3.tsv',\\\n",
    "    sep=\"\\t\")\n",
    "    # drop test file from training if present\n",
    "    trainfiles.drop(ind, inplace=True)\n",
    "    \n",
    "    scores = trainfiles[trainfiles.essay_set == es].domain1_score\n",
    "    # create training matrix\n",
    "    testfile = pd.Series(essay)    \n",
    "    trainfiles = trainfiles[trainfiles.essay_set == es].essay\n",
    "    data = testfile.append(trainfiles)\n",
    "    \n",
    "    \n",
    "    # create DTM\n",
    "    vectorizer = CountVectorizer(min_df = 1, stop_words = 'english')\n",
    "    dtm = vectorizer.fit_transform(data)\n",
    "        \n",
    "    \n",
    "    # Fit LSA\n",
    "    lsa = TruncatedSVD(100, algorithm = 'randomized')\n",
    "    dtm_lsa = lsa.fit_transform(dtm)\n",
    "    dtm_lsa = Normalizer(copy=False).fit_transform(dtm_lsa)\n",
    "    \n",
    "    similarity = np.asarray(np.asmatrix(dtm_lsa) * np.asmatrix(dtm_lsa).T)\n",
    "    simdf = pd.DataFrame(similarity,index=data.index, columns=data.index)\n",
    "    \n",
    "    closest_id = simdf.iloc[0][1:].idxmax()\n",
    "    \n",
    "    return scores[closest_id]"
   ]
  },
  {
   "cell_type": "code",
   "execution_count": 46,
   "metadata": {},
   "outputs": [
    {
     "name": "stderr",
     "output_type": "stream",
     "text": [
      "/home/liuzhiqiang/anaconda3/lib/python3.6/site-packages/sklearn/cross_validation.py:41: DeprecationWarning: This module was deprecated in version 0.18 in favor of the model_selection module into which all the refactored classes and functions are moved. Also note that the interface of the new CV iterators are different from that of this module. This module will be removed in 0.20.\n",
      "  \"This module will be removed in 0.20.\", DeprecationWarning)\n",
      "/home/liuzhiqiang/anaconda3/lib/python3.6/site-packages/sklearn/grid_search.py:42: DeprecationWarning: This module was deprecated in version 0.18 in favor of the model_selection module into which all the refactored classes and functions are moved. This module will be removed in 0.20.\n",
      "  DeprecationWarning)\n"
     ]
    }
   ],
   "source": [
    "from xgboost import XGBRegressor\n",
    "from sklearn.ensemble import RandomForestRegressor\n",
    "from sklearn.ensemble import GradientBoostingRegressor\n",
    "from sklearn.grid_search import GridSearchCV\n",
    "from sklearn.cross_validation import  train_test_split\n",
    "from sklearn.metrics import  mean_squared_error\n",
    "from sklearn.svm import  SVR\n",
    "from scipy.stats import pearsonr\n",
    "import pickle\n",
    "import numpy as np\n",
    "import time\n",
    "from sklearn.linear_model import LassoCV"
   ]
  },
  {
   "cell_type": "code",
   "execution_count": 15,
   "metadata": {
    "collapsed": true
   },
   "outputs": [],
   "source": [
    "\n",
    "def model_random_forest(Xtrain,Xtest,y_train,add):\n",
    "    X_train = Xtrain\n",
    "    # print(len(X_train[0]))\n",
    "    rfr = RandomForestRegressor(n_jobs=-1, random_state=10,oob_score=True)\n",
    "    param_grid ={'n_estimators': [40]}\n",
    "    #'n_estimators': [300]\n",
    "    # 'n_estimators': list(r,ange(30,60130)), ,\"max_depth\":list(range(40,61,10)),\"max_features\":list(range(120,211,30)),min_samples_split':list(range(20,201,20)),  'min_samples_leaf':list(range(10,80,10))\n",
    "    model = GridSearchCV(estimator=rfr, param_grid=param_grid, scoring= None, iid=False, cv=10)\n",
    "    model.fit(X_train, y_train)\n",
    "    # model.grid_scores_, model.best_params_, model.best_score_\n",
    "#     print('Random forecast classifier...')\n",
    "#     print('Best Params:')\n",
    "#     print(model.best_params_)\n",
    "#     print('Best CV Score:')\n",
    "    print(-model.best_score_)\n",
    "    y_pred = model.predict(Xtest)\n",
    "    final1 = model.predict(add)\n",
    "    return y_pred, final1\n",
    "\n",
    "\n",
    "\n",
    "def model_GBR(Xtrain,Xtest,y_train,add):\n",
    "    X_train = Xtrain\n",
    "    rfr = GradientBoostingRegressor(random_state=10,learning_rate= 0.01,loss= \"ls\")\n",
    "    param_grid = {'n_estimators': [50]}\n",
    "    # 'n_estimators': list(range(30,601,30)), ,\"max_depth\":list(range(40,61,10)),\"max_features\":list(range(120,211,30)),min_samples_split':list(range(20,201,20)),  'min_samples_leaf':list(range(10,80,10))\n",
    "    model = GridSearchCV(estimator=rfr, param_grid=param_grid, scoring= None, iid=False, cv=10)\n",
    "    model.fit(X_train, y_train)\n",
    "#     print('Best Params:')\n",
    "#     print(model.best_params_)\n",
    "    y_pred = model.predict(Xtest)\n",
    "    final2 = model.predict(add)\n",
    "    return y_pred,final2\n",
    "\n",
    "def model_XG(Xtrain,Xtest,y_train,add):\n",
    "    clf = XGBRegressor(nthread=4,n_estimators=100)\n",
    "    clf.fit(Xtrain,y_train)\n",
    "    y_pred = clf.predict(Xtest)\n",
    "    final3 = clf.predict(add)\n",
    "    return y_pred,final3\n",
    "\n",
    "def model_cv(Xtrain,Xtest,y_train,add):\n",
    "    lscv = LassoCV()\n",
    "    lscv.fit(Xtrain, y_train)\n",
    "    y_pred = lscv.predict(Xtest)\n",
    "    final = lscv.predict(add)\n",
    "    return y_pred,final"
   ]
  },
  {
   "cell_type": "code",
   "execution_count": 36,
   "metadata": {
    "collapsed": true
   },
   "outputs": [],
   "source": [
    "with open('train.pickle','rb') as f:\n",
    "    train_feature = pickle.load(f)"
   ]
  },
  {
   "cell_type": "code",
   "execution_count": 37,
   "metadata": {
    "collapsed": true
   },
   "outputs": [],
   "source": [
    "with open('test.pickle','rb') as f:\n",
    "    test_feature = pickle.load(f)"
   ]
  },
  {
   "cell_type": "code",
   "execution_count": 38,
   "metadata": {
    "collapsed": true
   },
   "outputs": [],
   "source": [
    "with open('readp.pickle','rb') as f:\n",
    "    read_train,senti_train,read_test,senti_test = pickle.load(f)"
   ]
  },
  {
   "cell_type": "code",
   "execution_count": 39,
   "metadata": {
    "collapsed": true
   },
   "outputs": [],
   "source": [
    "X_train = []\n",
    "for feature in train_feature:\n",
    "    X_train.append(feature[0])\n",
    "X_train = np.c_[np.array(X_train),read_train,senti_train,n_train]      "
   ]
  },
  {
   "cell_type": "code",
   "execution_count": 40,
   "metadata": {
    "collapsed": true
   },
   "outputs": [],
   "source": [
    "X_test = []\n",
    "for feature in test_feature:\n",
    "    X_test.append(feature[0])\n",
    "X_test = np.c_[np.array(X_test),read_test,senti_test,n_test]"
   ]
  },
  {
   "cell_type": "code",
   "execution_count": 41,
   "metadata": {},
   "outputs": [
    {
     "data": {
      "text/plain": [
       "(1200, 3919)"
      ]
     },
     "execution_count": 41,
     "metadata": {},
     "output_type": "execute_result"
    }
   ],
   "source": [
    "X_train.shape"
   ]
  },
  {
   "cell_type": "code",
   "execution_count": 42,
   "metadata": {
    "collapsed": true
   },
   "outputs": [],
   "source": [
    "scores = np.c_[list(df_train.score1),list(df_train.score2),list(df_train.score)]"
   ]
  },
  {
   "cell_type": "code",
   "execution_count": 43,
   "metadata": {},
   "outputs": [
    {
     "data": {
      "text/plain": [
       "1200"
      ]
     },
     "execution_count": 43,
     "metadata": {},
     "output_type": "execute_result"
    }
   ],
   "source": [
    "len(scores[:,1])"
   ]
  },
  {
   "cell_type": "code",
   "execution_count": 7,
   "metadata": {},
   "outputs": [
    {
     "name": "stderr",
     "output_type": "stream",
     "text": [
      "/home/liuzhiqiang/anaconda3/lib/python3.6/site-packages/nltk/twitter/__init__.py:20: UserWarning: The twython library has not been installed. Some functionality from the twitter package will not be available.\n",
      "  warnings.warn(\"The twython library has not been installed. \"\n",
      "/home/liuzhiqiang/anaconda3/lib/python3.6/site-packages/sklearn/cross_validation.py:41: DeprecationWarning: This module was deprecated in version 0.18 in favor of the model_selection module into which all the refactored classes and functions are moved. Also note that the interface of the new CV iterators are different from that of this module. This module will be removed in 0.20.\n",
      "  \"This module will be removed in 0.20.\", DeprecationWarning)\n",
      "/home/liuzhiqiang/anaconda3/lib/python3.6/site-packages/sklearn/grid_search.py:42: DeprecationWarning: This module was deprecated in version 0.18 in favor of the model_selection module into which all the refactored classes and functions are moved. This module will be removed in 0.20.\n",
      "  DeprecationWarning)\n"
     ]
    }
   ],
   "source": [
    "import pandas as pd\n",
    "import pickle\n",
    "import sys, nltk, re\n",
    "import pandas as pd\n",
    "import numpy as np\n",
    "import pickle\n",
    "import time\n",
    "from nltk import ngrams\n",
    "from nltk.stem import WordNetLemmatizer\n",
    "from nltk.corpus import wordnet \n",
    "from nltk.sentiment.vader import SentimentIntensityAnalyzer\n",
    "from textblob import Word\n",
    "from textstat.textstat import textstat\n",
    "from xgboost import XGBRegressor\n",
    "from sklearn import preprocessing\n",
    "from sklearn.feature_extraction.text import CountVectorizer\n",
    "from sklearn.cross_validation import  train_test_split\n",
    "from sklearn.metrics import  mean_squared_error\n",
    "from sklearn.grid_search import GridSearchCV\n",
    "from sklearn.ensemble import RandomForestRegressor\n",
    "from sklearn.ensemble import GradientBoostingRegressor\n",
    "from sklearn.svm import  SVR\n",
    "from sklearn.linear_model import LassoCV\n",
    "from scipy.stats import pearsonr\n"
   ]
  },
  {
   "cell_type": "code",
   "execution_count": 5,
   "metadata": {},
   "outputs": [],
   "source": [
    "train_dense_features = pd.read_csv('train_dense_features.csv')\n",
    "test_dense_features = pd.read_csv('test_dense_features.csv')\n",
    "with open('sparse.pickle','rb') as f:\n",
    "    train_sparse_features,test_sparse_features = pickle.load(f)"
   ]
  },
  {
   "cell_type": "code",
   "execution_count": 10,
   "metadata": {},
   "outputs": [],
   "source": [
    "scores = np.c_[list(df_train.score1),list(df_train.score2),list(df_train.score)]\n",
    "scaler = preprocessing.MinMaxScaler()\n",
    "X_train = scaler.fit_transform(train_dense_features)\n",
    "X_test = scaler.transform(test_dense_features)"
   ]
  },
  {
   "cell_type": "code",
   "execution_count": 11,
   "metadata": {
    "collapsed": true
   },
   "outputs": [],
   "source": [
    "x_train, x_cross, y_train, y_cross = train_test_split(X_train, scores, test_size=0.2, random_state=1021)"
   ]
  },
  {
   "cell_type": "code",
   "execution_count": 12,
   "metadata": {
    "collapsed": true
   },
   "outputs": [],
   "source": [
    "x = x_train\n",
    "xc = x_cross\n",
    "xt = X_test"
   ]
  },
  {
   "cell_type": "code",
   "execution_count": 16,
   "metadata": {},
   "outputs": [
    {
     "name": "stdout",
     "output_type": "stream",
     "text": [
      "0.49368735097014016\n",
      "0.48505539911120055\n",
      "The peasorn of 1: 0.0668767313805\n",
      "-0.433200094883827\n",
      "-0.47510836493598524\n",
      "The peasorn of 2: 0.846036127453\n",
      "-0.4622248340794354\n",
      "-0.5159992284510437\n",
      "The peasorn of 3: 0.841882574314\n",
      "-0.47849662459162046\n",
      "-0.5244042608823873\n",
      "The peasorn of 4: 0.851095661312\n",
      "-0.48619185247424923\n",
      "-0.5345557809937479\n",
      "The peasorn of 5: 0.852367769783\n",
      "-0.49507646071886524\n",
      "-0.5433493370947751\n",
      "The peasorn of 6: 0.851380191801\n",
      "-0.5217664014421772\n",
      "-0.562489966618961\n",
      "The peasorn of 7: 0.864219079567\n",
      "-0.5377219920692\n",
      "-0.5681174622108578\n",
      "The peasorn of 8: 0.863846874672\n",
      "-0.5437971453795999\n",
      "-0.5691666932072583\n",
      "The peasorn of 9: 0.864538243785\n",
      "-0.5418133673106615\n",
      "-0.5802454070166152\n",
      "The peasorn of 10: 0.869447737923\n",
      "-0.5511697473540098\n",
      "-0.5828872348183214\n",
      "The peasorn of 11: 0.871297581212\n",
      "-0.5505510649716685\n",
      "-0.5846257320601742\n",
      "The peasorn of 12: 0.872033271277\n",
      "-0.5594676472710761\n",
      "-0.5993240422629131\n",
      "The peasorn of 13: 0.873632296412\n",
      "-0.5574938378210104\n",
      "-0.6016828813238035\n",
      "The peasorn of 14: 0.873549040287\n",
      "-0.5610354418660226\n",
      "-0.6029852781429812\n",
      "The peasorn of 15: 0.871642043403\n",
      "-0.5653622249990108\n",
      "-0.6059389655809004\n",
      "The peasorn of 16: 0.871140724615\n",
      "-0.5676131679074004\n",
      "-0.6126301580586405\n",
      "The peasorn of 17: 0.872459221805\n",
      "-0.5695398956765034\n",
      "-0.6174710275788869\n",
      "The peasorn of 18: 0.873134419954\n",
      "-0.5682014387579843\n",
      "-0.613748170201419\n",
      "The peasorn of 19: 0.871132440823\n",
      "-0.562504120825994\n",
      "-0.6094985077830167\n",
      "The peasorn of 20: 0.87229604871\n",
      "-0.562816324059694\n",
      "-0.6126062494663265\n",
      "The peasorn of 21: 0.8694759187\n",
      "-0.5700544246502315\n",
      "-0.6119594752074813\n",
      "The peasorn of 22: 0.869438522396\n",
      "-0.5715520500360907\n",
      "-0.6131073228893273\n"
     ]
    },
    {
     "name": "stderr",
     "output_type": "stream",
     "text": [
      "/home/liuzhiqiang/anaconda3/lib/python3.6/site-packages/sklearn/linear_model/coordinate_descent.py:491: ConvergenceWarning: Objective did not converge. You might want to increase the number of iterations. Fitting data with very small alpha may cause precision problems.\n",
      "  ConvergenceWarning)\n"
     ]
    },
    {
     "name": "stdout",
     "output_type": "stream",
     "text": [
      "The peasorn of 23: 0.870062888488\n",
      "-0.5691016918753016\n",
      "-0.6121081840319624\n"
     ]
    },
    {
     "name": "stderr",
     "output_type": "stream",
     "text": [
      "/home/liuzhiqiang/anaconda3/lib/python3.6/site-packages/sklearn/linear_model/coordinate_descent.py:491: ConvergenceWarning: Objective did not converge. You might want to increase the number of iterations. Fitting data with very small alpha may cause precision problems.\n",
      "  ConvergenceWarning)\n"
     ]
    },
    {
     "name": "stdout",
     "output_type": "stream",
     "text": [
      "The peasorn of 24: 0.87055262927\n",
      "-0.5692471726313759\n",
      "-0.6127826750012633\n"
     ]
    },
    {
     "name": "stderr",
     "output_type": "stream",
     "text": [
      "/home/liuzhiqiang/anaconda3/lib/python3.6/site-packages/sklearn/linear_model/coordinate_descent.py:491: ConvergenceWarning: Objective did not converge. You might want to increase the number of iterations. Fitting data with very small alpha may cause precision problems.\n",
      "  ConvergenceWarning)\n"
     ]
    },
    {
     "name": "stdout",
     "output_type": "stream",
     "text": [
      "The peasorn of 25: 0.869952040898\n",
      "-0.5737012327605564\n"
     ]
    },
    {
     "name": "stderr",
     "output_type": "stream",
     "text": [
      "/home/liuzhiqiang/anaconda3/lib/python3.6/site-packages/sklearn/linear_model/coordinate_descent.py:491: ConvergenceWarning: Objective did not converge. You might want to increase the number of iterations. Fitting data with very small alpha may cause precision problems.\n",
      "  ConvergenceWarning)\n"
     ]
    },
    {
     "name": "stdout",
     "output_type": "stream",
     "text": [
      "-0.6079323929368728\n"
     ]
    },
    {
     "name": "stderr",
     "output_type": "stream",
     "text": [
      "/home/liuzhiqiang/anaconda3/lib/python3.6/site-packages/sklearn/linear_model/coordinate_descent.py:491: ConvergenceWarning: Objective did not converge. You might want to increase the number of iterations. Fitting data with very small alpha may cause precision problems.\n",
      "  ConvergenceWarning)\n",
      "/home/liuzhiqiang/anaconda3/lib/python3.6/site-packages/sklearn/linear_model/coordinate_descent.py:491: ConvergenceWarning: Objective did not converge. You might want to increase the number of iterations. Fitting data with very small alpha may cause precision problems.\n",
      "  ConvergenceWarning)\n"
     ]
    },
    {
     "name": "stdout",
     "output_type": "stream",
     "text": [
      "The peasorn of 26: 0.86932999972\n",
      "-0.5713933839210799\n"
     ]
    },
    {
     "name": "stderr",
     "output_type": "stream",
     "text": [
      "/home/liuzhiqiang/anaconda3/lib/python3.6/site-packages/sklearn/linear_model/coordinate_descent.py:491: ConvergenceWarning: Objective did not converge. You might want to increase the number of iterations. Fitting data with very small alpha may cause precision problems.\n",
      "  ConvergenceWarning)\n"
     ]
    },
    {
     "name": "stdout",
     "output_type": "stream",
     "text": [
      "-0.6102149209951581\n"
     ]
    },
    {
     "name": "stderr",
     "output_type": "stream",
     "text": [
      "/home/liuzhiqiang/anaconda3/lib/python3.6/site-packages/sklearn/linear_model/coordinate_descent.py:491: ConvergenceWarning: Objective did not converge. You might want to increase the number of iterations. Fitting data with very small alpha may cause precision problems.\n",
      "  ConvergenceWarning)\n",
      "/home/liuzhiqiang/anaconda3/lib/python3.6/site-packages/sklearn/linear_model/coordinate_descent.py:491: ConvergenceWarning: Objective did not converge. You might want to increase the number of iterations. Fitting data with very small alpha may cause precision problems.\n",
      "  ConvergenceWarning)\n"
     ]
    },
    {
     "name": "stdout",
     "output_type": "stream",
     "text": [
      "The peasorn of 27: 0.867194412225\n",
      "-0.5709093737197862\n"
     ]
    },
    {
     "name": "stderr",
     "output_type": "stream",
     "text": [
      "/home/liuzhiqiang/anaconda3/lib/python3.6/site-packages/sklearn/linear_model/coordinate_descent.py:491: ConvergenceWarning: Objective did not converge. You might want to increase the number of iterations. Fitting data with very small alpha may cause precision problems.\n",
      "  ConvergenceWarning)\n"
     ]
    },
    {
     "name": "stdout",
     "output_type": "stream",
     "text": [
      "-0.610185920058295\n"
     ]
    },
    {
     "name": "stderr",
     "output_type": "stream",
     "text": [
      "/home/liuzhiqiang/anaconda3/lib/python3.6/site-packages/sklearn/linear_model/coordinate_descent.py:491: ConvergenceWarning: Objective did not converge. You might want to increase the number of iterations. Fitting data with very small alpha may cause precision problems.\n",
      "  ConvergenceWarning)\n",
      "/home/liuzhiqiang/anaconda3/lib/python3.6/site-packages/sklearn/linear_model/coordinate_descent.py:491: ConvergenceWarning: Objective did not converge. You might want to increase the number of iterations. Fitting data with very small alpha may cause precision problems.\n",
      "  ConvergenceWarning)\n"
     ]
    },
    {
     "name": "stdout",
     "output_type": "stream",
     "text": [
      "The peasorn of 28: 0.870756284077\n",
      "-0.577125381815281\n"
     ]
    },
    {
     "name": "stderr",
     "output_type": "stream",
     "text": [
      "/home/liuzhiqiang/anaconda3/lib/python3.6/site-packages/sklearn/linear_model/coordinate_descent.py:491: ConvergenceWarning: Objective did not converge. You might want to increase the number of iterations. Fitting data with very small alpha may cause precision problems.\n",
      "  ConvergenceWarning)\n"
     ]
    },
    {
     "name": "stdout",
     "output_type": "stream",
     "text": [
      "-0.6122155460117447\n"
     ]
    },
    {
     "name": "stderr",
     "output_type": "stream",
     "text": [
      "/home/liuzhiqiang/anaconda3/lib/python3.6/site-packages/sklearn/linear_model/coordinate_descent.py:491: ConvergenceWarning: Objective did not converge. You might want to increase the number of iterations. Fitting data with very small alpha may cause precision problems.\n",
      "  ConvergenceWarning)\n",
      "/home/liuzhiqiang/anaconda3/lib/python3.6/site-packages/sklearn/linear_model/coordinate_descent.py:491: ConvergenceWarning: Objective did not converge. You might want to increase the number of iterations. Fitting data with very small alpha may cause precision problems.\n",
      "  ConvergenceWarning)\n"
     ]
    },
    {
     "name": "stdout",
     "output_type": "stream",
     "text": [
      "The peasorn of 29: 0.870352057263\n",
      "-0.5745425955482821\n"
     ]
    },
    {
     "name": "stderr",
     "output_type": "stream",
     "text": [
      "/home/liuzhiqiang/anaconda3/lib/python3.6/site-packages/sklearn/linear_model/coordinate_descent.py:491: ConvergenceWarning: Objective did not converge. You might want to increase the number of iterations. Fitting data with very small alpha may cause precision problems.\n",
      "  ConvergenceWarning)\n"
     ]
    },
    {
     "name": "stdout",
     "output_type": "stream",
     "text": [
      "-0.6137787999530672\n"
     ]
    },
    {
     "name": "stderr",
     "output_type": "stream",
     "text": [
      "/home/liuzhiqiang/anaconda3/lib/python3.6/site-packages/sklearn/linear_model/coordinate_descent.py:491: ConvergenceWarning: Objective did not converge. You might want to increase the number of iterations. Fitting data with very small alpha may cause precision problems.\n",
      "  ConvergenceWarning)\n",
      "/home/liuzhiqiang/anaconda3/lib/python3.6/site-packages/sklearn/linear_model/coordinate_descent.py:491: ConvergenceWarning: Objective did not converge. You might want to increase the number of iterations. Fitting data with very small alpha may cause precision problems.\n",
      "  ConvergenceWarning)\n"
     ]
    },
    {
     "name": "stdout",
     "output_type": "stream",
     "text": [
      "The peasorn of 30: 0.869385121636\n",
      "-0.5805076509827425\n"
     ]
    },
    {
     "name": "stderr",
     "output_type": "stream",
     "text": [
      "/home/liuzhiqiang/anaconda3/lib/python3.6/site-packages/sklearn/linear_model/coordinate_descent.py:491: ConvergenceWarning: Objective did not converge. You might want to increase the number of iterations. Fitting data with very small alpha may cause precision problems.\n",
      "  ConvergenceWarning)\n"
     ]
    },
    {
     "name": "stdout",
     "output_type": "stream",
     "text": [
      "-0.6147637199605517\n"
     ]
    },
    {
     "name": "stderr",
     "output_type": "stream",
     "text": [
      "/home/liuzhiqiang/anaconda3/lib/python3.6/site-packages/sklearn/linear_model/coordinate_descent.py:491: ConvergenceWarning: Objective did not converge. You might want to increase the number of iterations. Fitting data with very small alpha may cause precision problems.\n",
      "  ConvergenceWarning)\n"
     ]
    },
    {
     "name": "stdout",
     "output_type": "stream",
     "text": [
      "The peasorn of 31: 0.867393187229\n",
      "-0.5786607312034497\n"
     ]
    },
    {
     "name": "stderr",
     "output_type": "stream",
     "text": [
      "/home/liuzhiqiang/anaconda3/lib/python3.6/site-packages/sklearn/linear_model/coordinate_descent.py:491: ConvergenceWarning: Objective did not converge. You might want to increase the number of iterations. Fitting data with very small alpha may cause precision problems.\n",
      "  ConvergenceWarning)\n"
     ]
    },
    {
     "name": "stdout",
     "output_type": "stream",
     "text": [
      "-0.6217237460084508\n",
      "The peasorn of 32: 0.867203287271\n"
     ]
    },
    {
     "name": "stderr",
     "output_type": "stream",
     "text": [
      "/home/liuzhiqiang/anaconda3/lib/python3.6/site-packages/sklearn/linear_model/coordinate_descent.py:491: ConvergenceWarning: Objective did not converge. You might want to increase the number of iterations. Fitting data with very small alpha may cause precision problems.\n",
      "  ConvergenceWarning)\n"
     ]
    }
   ],
   "source": [
    "p = []\n",
    "for i in range(1,x.shape[1]):\n",
    "    xtrain, xcross,xtest = x[:,:i],xc[:,:i],xt[:,:i]\n",
    "    y_pred, final1_1= model_random_forest(xtrain,xcross, y_train[:,0],xtest)\n",
    "    Y_pred, final1_2 = model_GBR(xtrain,xcross, y_train[:,0],xtest)\n",
    "    xg_pred, final1_3 = model_XG(xtrain,xcross, y_train[:,0],xtest)\n",
    "    cv_pred, final1_4 = model_cv(xtrain,xcross, y_train[:,0],xtest)\n",
    "    y_pred2, final2_1= model_random_forest(xtrain,xcross, y_train[:,1],xtest)\n",
    "    Y_pred2, final2_2 = model_GBR(xtrain,xcross, y_train[:,1],xtest)\n",
    "    xg_pred2, final2_3 = model_XG(xtrain,xcross, y_train[:,1],xtest)\n",
    "    cv_pred2, final2_4 = model_cv(xtrain,xcross, y_train[:,1],xtest)\n",
    "    print(\"The peasorn of %d:\"%i, pearsonr((Y_pred+Y_pred2+y_pred+y_pred2+xg_pred+xg_pred2+cv_pred+cv_pred2)/4, y_cross[:,2])[0])\n",
    "    p.append(pearsonr((Y_pred+Y_pred2+y_pred+y_pred2+xg_pred+xg_pred2+cv_pred+cv_pred2)/4, y_cross[:,2])[0])"
   ]
  },
  {
   "cell_type": "code",
   "execution_count": 72,
   "metadata": {},
   "outputs": [
    {
     "name": "stdout",
     "output_type": "stream",
     "text": [
      "-0.6023247312041085\n",
      "-0.6285062209453064\n",
      "The peasorn of 18: 0.983181533596\n"
     ]
    }
   ],
   "source": [
    "xtrain, xcross,xtest = x,xc,xt\n",
    "y_pred, final1_1= model_random_forest(xtrain,xcross, y_train[:,0],xtest)\n",
    "Y_pred, final1_2 = model_GBR(xtrain,xcross, y_train[:,0],xtest)\n",
    "xg_pred, final1_3 = model_XG(xtrain,xcross, y_train[:,0],xtest)\n",
    "cv_pred, final1_4 = model_cv(xtrain,xcross, y_train[:,0],xtest)\n",
    "y_pred2, final2_1= model_random_forest(xtrain,xcross, y_train[:,1],xtest)\n",
    "Y_pred2, final2_2 = model_GBR(xtrain,xcross, y_train[:,1],xtest)\n",
    "xg_pred2, final2_3 = model_XG(xtrain,xcross, y_train[:,1],xtest)\n",
    "cv_pred2, final2_4 = model_cv(xtrain,xcross, y_train[:,1],xtest)\n",
    "print(\"The peasorn of 18:\", pearsonr((Y_pred+Y_pred2+y_pred+y_pred2+xg_pred+xg_pred2+cv_pred+cv_pred2)/4, y_cross[:,2])[0])"
   ]
  },
  {
   "cell_type": "code",
   "execution_count": 60,
   "metadata": {},
   "outputs": [
    {
     "data": {
      "text/plain": [
       "(array([ 306, 1131]),)"
      ]
     },
     "execution_count": 60,
     "metadata": {},
     "output_type": "execute_result"
    }
   ],
   "source": [
    "np.where(x.sum(axis=0)==0)"
   ]
  },
  {
   "cell_type": "code",
   "execution_count": 58,
   "metadata": {},
   "outputs": [
    {
     "data": {
      "text/plain": [
       "(array([  0,   0,   0, ..., 959, 959, 959]),\n",
       " array([   6,    7,   17, ..., 3916, 3917, 3918]))"
      ]
     },
     "execution_count": 58,
     "metadata": {},
     "output_type": "execute_result"
    }
   ],
   "source": [
    "np.where(x==0)"
   ]
  },
  {
   "cell_type": "code",
   "execution_count": 22,
   "metadata": {},
   "outputs": [
    {
     "data": {
      "image/png": "[encoded data removed]",
      "text/plain": [
       "<matplotlib.figure.Figure at 0x7f652c4a2a90>"
      ]
     },
     "metadata": {},
     "output_type": "display_data"
    }
   ],
   "source": [
    "import matplotlib.pyplot as plt\n",
    "from pylab import * \n",
    "x=range(len(p))\n",
    "plt.plot(x[1:], p[1:], 'ro-')\n",
    "title('Forward Feature Selection')\n",
    "xlabel('num of features')\n",
    "ylabel('Pearson')\n",
    "plt.show()"
   ]
  },
  {
   "cell_type": "code",
   "execution_count": 73,
   "metadata": {},
   "outputs": [
    {
     "name": "stdout",
     "output_type": "stream",
     "text": [
      "The peasorn of all: 0.983181533596\n"
     ]
    }
   ],
   "source": [
    "# print(\"The MSE of RandomForest:\",mean_squared_error(y_pred,y_cross))\n",
    "# print(\"The MSE of GradientBoostingRegression:\", mean_squared_error(Y_pred, y_cross))\n",
    "# print(\"The MSE of XGboost\", mean_squared_error(xg_pred, y_cross))\n",
    "# print(\"The Peasorn of RandomForest:\", pearsonr(y_pred, y_cross)[0])\n",
    "# print(\"The peasorn of GradientBoostingRegression:\", pearsonr(Y_pred, y_cross)[0])\n",
    "# print(\"The Peasorn of Xgboost:\", pearsonr(xg_pred, y_cross)[0])\n",
    "# print(\"The mse of all:\",mean_squared_error((Y_pred+y_pred+xg_pred)/3, y_cross))\n",
    "print(\"The peasorn of all:\", pearsonr((Y_pred+Y_pred2+y_pred+y_pred2+xg_pred+xg_pred2+cv_pred+cv_pred2)/4, y_cross[:,2])[0])"
   ]
  },
  {
   "cell_type": "code",
   "execution_count": 21,
   "metadata": {},
   "outputs": [
    {
     "name": "stdout",
     "output_type": "stream",
     "text": [
      "ERROR: unknown command \"jupyter_contrib_nbextensions\"\r\n"
     ]
    }
   ],
   "source": [
    "!pip jupyter_contrib_nbextensions"
   ]
  },
  {
   "cell_type": "code",
   "execution_count": 74,
   "metadata": {},
   "outputs": [
    {
     "data": {
      "text/plain": [
       "550"
      ]
     },
     "execution_count": 74,
     "metadata": {},
     "output_type": "execute_result"
    }
   ],
   "source": [
    "len(df_test.id)"
   ]
  },
  {
   "cell_type": "code",
   "execution_count": 75,
   "metadata": {
    "collapsed": true
   },
   "outputs": [],
   "source": [
    "with open(\"submission_sample.txt\", \"w\") as f:\n",
    "    for i in range(550):\n",
    "        f.write(str(df_test.id[i]) + \",\" + str((final1_1[i]+final1_2[i]+final1_3[i]+final2_1[i]+final2_2[i]+final2_3[i])/3) + \"\\n\")\n",
    "    #         # f.write(y_ids[i] + \",\" + str(y_pred[i]) + \"\\n\")"
   ]
  },
  {
   "cell_type": "code",
   "execution_count": null,
   "metadata": {
    "collapsed": true
   },
   "outputs": [],
   "source": []
  }
 ],
 "metadata": {
  "kernelspec": {
   "display_name": "Python 3",
   "language": "python",
   "name": "python3"
  },
  "language_info": {
   "codemirror_mode": {
    "name": "ipython",
    "version": 3
   },
   "file_extension": ".py",
   "mimetype": "text/x-python",
   "name": "python",
   "nbconvert_exporter": "python",
   "pygments_lexer": "ipython3",
   "version": "3.6.3"
  }
 },
 "nbformat": 4,
 "nbformat_minor": 2
}
